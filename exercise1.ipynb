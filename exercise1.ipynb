{
  "nbformat": 4,
  "nbformat_minor": 0,
  "metadata": {
    "colab": {
      "provenance": [],
      "authorship_tag": "ABX9TyMz30cy2IWLuIlws64lF9vm",
      "include_colab_link": true
    },
    "kernelspec": {
      "name": "python3",
      "display_name": "Python 3"
    },
    "language_info": {
      "name": "python"
    }
  },
  "cells": [
    {
      "cell_type": "markdown",
      "metadata": {
        "id": "view-in-github",
        "colab_type": "text"
      },
      "source": [
        "<a href=\"https://colab.research.google.com/github/Nish-hub94/ML-for-Computer-vision/blob/main/exercise1.ipynb\" target=\"_parent\"><img src=\"https://colab.research.google.com/assets/colab-badge.svg\" alt=\"Open In Colab\"/></a>"
      ]
    },
    {
      "cell_type": "code",
      "execution_count": 1,
      "metadata": {
        "colab": {
          "base_uri": "https://localhost:8080/",
          "height": 406
        },
        "id": "PeP_Yc-o-00n",
        "outputId": "c5c8449c-eb6f-4808-a618-6424df558f13"
      },
      "outputs": [
        {
          "output_type": "display_data",
          "data": {
            "text/plain": [
              "<Figure size 640x480 with 1 Axes>"
            ],
            "image/png": "[encoded data removed]"
          },
          "metadata": {}
        }
      ],
      "source": [
        "import cv2\n",
        "from matplotlib import pyplot as plt\n",
        "img_bgr = cv2.imread('/content/example.png', cv2.IMREAD_COLOR)\n",
        "img_rgb = cv2.cvtColor(img_bgr, cv2.COLOR_BGR2RGB)\n",
        "plt.imshow(img_rgb)\n",
        "plt.axis(\"off\")\n",
        "plt.show()"
      ]
    },
    {
      "cell_type": "code",
      "source": [
        "print(type(img_bgr))\n"
      ],
      "metadata": {
        "colab": {
          "base_uri": "https://localhost:8080/"
        },
        "id": "YoEp8DLG_2E4",
        "outputId": "72f7f75e-1d0f-4ae0-b802-6577a85368f5"
      },
      "execution_count": 2,
      "outputs": [
        {
          "output_type": "stream",
          "name": "stdout",
          "text": [
            "<class 'numpy.ndarray'>\n"
          ]
        }
      ]
    },
    {
      "cell_type": "code",
      "source": [
        "print(img_bgr.shape)"
      ],
      "metadata": {
        "colab": {
          "base_uri": "https://localhost:8080/"
        },
        "id": "nYi5SH-CAVEv",
        "outputId": "b4bbbbff-c85a-432a-b2f7-500c12605a5b"
      },
      "execution_count": 3,
      "outputs": [
        {
          "output_type": "stream",
          "name": "stdout",
          "text": [
            "(32, 32, 3)\n"
          ]
        }
      ]
    },
    {
      "cell_type": "markdown",
      "source": [
        "length=32\n",
        "width=32,\n",
        "3 means no of channels\n",
        "\n"
      ],
      "metadata": {
        "id": "pSo8-DpvAunn"
      }
    },
    {
      "cell_type": "code",
      "source": [
        "print(img_bgr[17,8])"
      ],
      "metadata": {
        "colab": {
          "base_uri": "https://localhost:8080/"
        },
        "id": "kpMGUkjlAY5H",
        "outputId": "85c34bb1-6c65-486a-9ed7-8d56e17042d4"
      },
      "execution_count": 4,
      "outputs": [
        {
          "output_type": "stream",
          "name": "stdout",
          "text": [
            "[0 3 6]\n"
          ]
        }
      ]
    },
    {
      "cell_type": "markdown",
      "source": [
        "looking at row 17 and column 8, it gives the picxel is very dark because the numbers represent the following.\n",
        "Blue channel =0\n",
        "green channel =3\n",
        "red channel= 6"
      ],
      "metadata": {
        "id": "_mUcktbMB8nw"
      }
    },
    {
      "cell_type": "code",
      "source": [
        "print(img_rgb[17,8])"
      ],
      "metadata": {
        "colab": {
          "base_uri": "https://localhost:8080/"
        },
        "id": "l-FJFQbhBnUw",
        "outputId": "f869d6f3-6452-4f41-d4cd-6ce17950fb6e"
      },
      "execution_count": 5,
      "outputs": [
        {
          "output_type": "stream",
          "name": "stdout",
          "text": [
            "[6 3 0]\n"
          ]
        }
      ]
    },
    {
      "cell_type": "markdown",
      "source": [
        "The difference is that the channels got rearranged.\n",
        "Now red channel= 6, Green channel = 3 and Blue channel=0"
      ],
      "metadata": {
        "id": "jjqyXvOjtzj5"
      }
    },
    {
      "cell_type": "code",
      "source": [
        "img_bgr[10,16]= [255,255,255] #white\n",
        "#img_rgb[10,16]= [255,0,0] #red\n",
        "plt.imshow(img_rgb)\n",
        "plt.axis(\"off\")\n",
        "plt.show()"
      ],
      "metadata": {
        "id": "NOc71hmzCWFx",
        "colab": {
          "base_uri": "https://localhost:8080/",
          "height": 406
        },
        "outputId": "575dc11f-57ff-471e-f7ba-4a7708004e86"
      },
      "execution_count": 6,
      "outputs": [
        {
          "output_type": "display_data",
          "data": {
            "text/plain": [
              "<Figure size 640x480 with 1 Axes>"
            ],
            "image/png": "[encoded data removed]"
          },
          "metadata": {}
        }
      ]
    },
    {
      "cell_type": "markdown",
      "source": [
        "a single pixel at coordinates(10,16) was changed to white, i.e(255,255,255) in RGB order.so that pixel is white while rest of the image remained the same.\n"
      ],
      "metadata": {
        "id": "fqikfCE7ur66"
      }
    },
    {
      "cell_type": "markdown",
      "source": [
        "In an 8bit image(most common format), each channel can take from 0(minimum) to 255(maximum)\n",
        "\n",
        "Minimum = 0 → no intensity (dark).\n",
        "Maximum = 255 → full intensity (bright).\n",
        "\n",
        "\n",
        "Black = [0,0,0]\n",
        "White = [255,255,255]\n",
        "Any other pixel lies between these extremes."
      ],
      "metadata": {
        "id": "p_F61345vGMY"
      }
    },
    {
      "cell_type": "markdown",
      "source": [
        "changing the color value of a pixel to blue, green and red"
      ],
      "metadata": {
        "id": "e31VuoHYvuin"
      }
    },
    {
      "cell_type": "code",
      "source": [
        "img_rgb[10,16]= [255,255,255]\n",
        "plt.imshow(img_rgb)\n",
        "plt.axis(\"off\")\n",
        "plt.show()"
      ],
      "metadata": {
        "colab": {
          "base_uri": "https://localhost:8080/",
          "height": 406
        },
        "id": "jAXBEYj6uYfS",
        "outputId": "ed513378-f257-4330-b7cc-9b59c5d2aa61"
      },
      "execution_count": 7,
      "outputs": [
        {
          "output_type": "display_data",
          "data": {
            "text/plain": [
              "<Figure size 640x480 with 1 Axes>"
            ],
            "image/png": "[encoded data removed]"
          },
          "metadata": {}
        }
      ]
    },
    {
      "cell_type": "code",
      "source": [],
      "metadata": {
        "id": "-jb9_jyvvygZ"
      },
      "execution_count": null,
      "outputs": []
    },
    {
      "cell_type": "markdown",
      "source": [
        "11.Height = 32 pixels\n",
        "Width = 32 pixels\n",
        "Channels = 3 (B, G, R)\n",
        "\n",
        "So the image has:32 x 32 x 3=3072 values\n",
        "\n",
        "Each channel value = 1 byte = 8 bits\n",
        "\n",
        "So total memory used is: 3072 x 1 =3072bytes\n",
        "\n",
        "1KB =1024 bytes\n",
        "\n",
        "Therefore 3072bytes= 3KB, so 3KB of memory is being used by the whole image.\n"
      ],
      "metadata": {
        "id": "Nqe7m4VawLS2"
      }
    },
    {
      "cell_type": "code",
      "source": [
        "img_rgb_dark = img_rgb // 2\n",
        "plt.imshow(img_rgb_dark)\n",
        "plt.axis(\"off\")\n",
        "plt.show()"
      ],
      "metadata": {
        "colab": {
          "base_uri": "https://localhost:8080/",
          "height": 406
        },
        "id": "8crdZQL-w4y_",
        "outputId": "f9615f4f-292f-4ef5-8cd0-29cd0f3a7021"
      },
      "execution_count": 8,
      "outputs": [
        {
          "output_type": "display_data",
          "data": {
            "text/plain": [
              "<Figure size 640x480 with 1 Axes>"
            ],
            "image/png": "[encoded data removed]"
          },
          "metadata": {}
        }
      ]
    },
    {
      "cell_type": "markdown",
      "source": [
        "12)(a) the image is still visible but the brightness is reduced about half.the colours look a bit dimmer than earlier.\n",
        "\n",
        "(b)Every pixel in img_rgb has 3 values [R, G, B] between 0–255.\n",
        "The code divides each channel value by 2 (integer division).\n",
        "\n",
        "So, all colors are scaled down to half their intensity → making the image darker.\n",
        "\n",
        "(c)// is floor division (integer division).\n",
        "It divides numbers and keeps only the integer part (no decimals).\n",
        "\n",
        "So in this case, img_rgb // 2 makes sure all pixel values stay as integers (which is required for image arrays)."
      ],
      "metadata": {
        "id": "57tKCbhrxMFl"
      }
    },
    {
      "cell_type": "code",
      "source": [
        "import numpy as np\n",
        "\n"
      ],
      "metadata": {
        "id": "th_FMwDuw8Zf"
      },
      "execution_count": 9,
      "outputs": []
    },
    {
      "cell_type": "code",
      "source": [
        "# Create an empty array for the rotated image\n",
        "img_rot =np.zeros((32,32,3), dtype=np.uint8)\n",
        "\n",
        "# Rotate 90 degrees anticlockwise\n",
        "for j in range(0,32):        # row index\n",
        "    for i in range(0,32):\n",
        "      for c in range(0,3):  # column index\n",
        "        img_rot[j,i,c] = img_rgb[i,j,c]\n",
        "\n",
        "# Show result\n",
        "plt.imshow(img_rot)\n",
        "plt.axis(\"off\")\n",
        "plt.show()"
      ],
      "metadata": {
        "colab": {
          "base_uri": "https://localhost:8080/",
          "height": 406
        },
        "id": "BBMAXP7kqKxf",
        "outputId": "5bbb39b8-394d-41fa-c0f0-13ac5f579843"
      },
      "execution_count": 10,
      "outputs": [
        {
          "output_type": "display_data",
          "data": {
            "text/plain": [
              "<Figure size 640x480 with 1 Axes>"
            ],
            "image/png": "[encoded data removed]"
          },
          "metadata": {}
        }
      ]
    },
    {
      "cell_type": "code",
      "source": [
        "#turning 180 degrees\n",
        "# Create an empty array for the rotated image\n",
        "img_rot = np.zeros((32,32,3), dtype=np.uint8)\n",
        "\n",
        "# Rotate 180 degrees\n",
        "for j in range(32):        # row index\n",
        "    for i in range(32):    # column index\n",
        "        for c in range(3): # channel index\n",
        "          img_rot[j, i, c]= img_rgb[31-j, 31-i, c]\n",
        "\n",
        "# Show result\n",
        "plt.imshow(img_rot)\n",
        "plt.axis(\"off\")\n",
        "plt.show()"
      ],
      "metadata": {
        "colab": {
          "base_uri": "https://localhost:8080/",
          "height": 406
        },
        "id": "Q6whrQN_rj-n",
        "outputId": "47e35585-df82-4f62-f1df-f8617e6d383d"
      },
      "execution_count": 14,
      "outputs": [
        {
          "output_type": "display_data",
          "data": {
            "text/plain": [
              "<Figure size 640x480 with 1 Axes>"
            ],
            "image/png": "[encoded data removed]"
          },
          "metadata": {}
        }
      ]
    },
    {
      "cell_type": "code",
      "source": [
        "#turmning 90 degres clockwise direction\n",
        "# Assume img_rgb is already loaded (shape = (32, 32, 3))\n",
        "h, w, c = img_rgb.shape\n",
        "\n",
        "# Create an empty array for the rotated image\n",
        "img_rot =np.zeros((32,32,3), dtype=np.uint8)\n",
        "\n",
        "# Rotate 90 degrees clockwise\n",
        "for i in range(0,32):        # row index\n",
        "    for j in range(0,32):\n",
        "      for c in range(0,3):   # column index\n",
        "        img_rot[j,32-1-i,c] = img_rgb[i,j,c]\n",
        "\n",
        "# Show result\n",
        "plt.imshow(img_rot)\n",
        "plt.axis(\"off\")\n",
        "plt.show()"
      ],
      "metadata": {
        "colab": {
          "base_uri": "https://localhost:8080/",
          "height": 406
        },
        "id": "5a2KEwplqtQv",
        "outputId": "615cce38-674f-4d53-bcd0-bf956f5ba9a0"
      },
      "execution_count": 15,
      "outputs": [
        {
          "output_type": "display_data",
          "data": {
            "text/plain": [
              "<Figure size 640x480 with 1 Axes>"
            ],
            "image/png": "[encoded data removed]"
          },
          "metadata": {}
        }
      ]
    },
    {
      "cell_type": "code",
      "source": [
        "# Assume img_rgb is already loaded (shape = (32, 32, 3))\n",
        "h, w, c = img_rgb.shape\n",
        "\n",
        "# Create an empty array for the rotated image\n",
        "img_rot =np.zeros((w,h,c), dtype=np.uint8)\n",
        "\n",
        "# Rotate 90 degrees clockwise\n",
        "for i in range(h):        # row index\n",
        "    for j in range(w):    # column index\n",
        "        img_rot[j, h-1-i] = img_rgb[i, j]\n",
        "\n",
        "# Show result\n",
        "plt.imshow(img_rot)\n",
        "plt.axis(\"off\")\n",
        "plt.show()"
      ],
      "metadata": {
        "colab": {
          "base_uri": "https://localhost:8080/",
          "height": 406
        },
        "id": "GAvTEs9fxxfB",
        "outputId": "1c9f0f5c-29e5-43ac-90b9-8e71525ada8c"
      },
      "execution_count": 16,
      "outputs": [
        {
          "output_type": "display_data",
          "data": {
            "text/plain": [
              "<Figure size 640x480 with 1 Axes>"
            ],
            "image/png": "[encoded data removed]"
          },
          "metadata": {}
        }
      ]
    },
    {
      "cell_type": "markdown",
      "source": [
        "(i, j) = pixel in the original image.\n",
        "\n",
        "After a 90° clockwise rotation:\n",
        "\n",
        "i (row) becomes column → j\n",
        "\n",
        "j (col) becomes row → h-1-i (because we need to flip vertically)."
      ],
      "metadata": {
        "id": "Ik2YiCAwzDiE"
      }
    },
    {
      "cell_type": "code",
      "source": [],
      "metadata": {
        "id": "VE8TJ6xfy9Hx"
      },
      "execution_count": null,
      "outputs": []
    }
  ]
}